{
 "cells": [
  {
   "cell_type": "code",
   "execution_count": null,
   "id": "ae3cb273-7e93-4e64-9c72-31b70c8a9e10",
   "metadata": {},
   "outputs": [],
   "source": [
    "import pandas as pd\n",
    "\n",
    "ROOTDIR = r'D:\\Desktop\\1206\\888_2021-09-24_male_unknown_social_status_cagemate_2_strangers_(A)cagemate_(B)stranger_(C)stranger'"
   ]
  }
 ],
 "metadata": {
  "kernelspec": {
   "display_name": "Python 3 (ipykernel)",
   "language": "python",
   "name": "python3"
  },
  "language_info": {
   "codemirror_mode": {
    "name": "ipython",
    "version": 3
   },
   "file_extension": ".py",
   "mimetype": "text/x-python",
   "name": "python",
   "nbconvert_exporter": "python",
   "pygments_lexer": "ipython3",
   "version": "3.8.12"
  }
 },
 "nbformat": 4,
 "nbformat_minor": 5
}
