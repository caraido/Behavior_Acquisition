{
 "cells": [
  {
   "cell_type": "code",
   "execution_count": 1,
   "id": "693a5617-02c8-4aa4-b2f3-2f87ce001082",
   "metadata": {},
   "outputs": [],
   "source": [
    "%matplotlib widget\n",
    "%load_ext cython\n",
    "import matplotlib.pyplot as plt\n",
    "import os\n",
    "import cv2\n",
    "import toml\n",
    "import numpy as np\n",
    "import reproject_3d_to_2d as reproj"
   ]
  },
  {
   "cell_type": "code",
   "execution_count": 3,
   "id": "f9c00b9d-5558-4dda-bb01-bdc87ffb93ef",
   "metadata": {},
   "outputs": [],
   "source": [
    "path = 'D:\\\\0000\\\\690_2021-09-09_female_unknown_social_status_habituation/'\n",
    "cams = []\n",
    "\n",
    "# path = 'D:\\\\Desktop\\\\1214\\\\2021-06-22_habituation\\\\'\n",
    "# cams = ['17391290','17391304','19287342','19412282']\n",
    "# vid = [cv2.VideoCapture(os.path.join(path,'raw',f'camera_{i}.MOV')) for i in cams]\n",
    "\n",
    "# path = 'D:\\\\Desktop\\\\1076\\\\706_2021-09-13_male_unknown_social_status_habituation\\\\'\n",
    "cams = ['17391290','17391304','19412282','21259803']\n",
    "vid = [cv2.VideoCapture(os.path.join(path,f'camera_{i}.MOV')) for i in cams]\n",
    "_ = [toml.load(os.path.join(path,'config',f'config_intrinsic_{i}.toml')) for i in cams]\n",
    "camera_mats = np.array([i['camera_mat'] for i in _])\n",
    "dists = [np.array(i['dist_coeff']) for i in _]\n",
    "_ = toml.load(os.path.join(path,'config',f'config_extrinsic.toml'))['extrinsic']\n",
    "extrinsics = np.array([_[f'{i}'] for i in range(len(cams))]).astype(np.double)"
   ]
  },
  {
   "cell_type": "code",
   "execution_count": 4,
   "id": "407eaebc-cc89-45af-88dd-4547d959ec3d",
   "metadata": {},
   "outputs": [],
   "source": [
    "def plot_points_on_frame(pnts):\n",
    "#     proj = get_pos_on_frame()\n",
    "    plt.close('all')\n",
    "    fig,axs = plt.subplots(nrows=2,ncols=2,figsize=(15,10))\n",
    "    axs = axs.flatten()\n",
    "    ims = []\n",
    "    for i in range(len(vid)):\n",
    "        vid[i].set(1, 0)\n",
    "        _,frame = vid[i].read()\n",
    "        ims.append(axs[i].imshow(frame))\n",
    "#         print(dists[i].shape)\n",
    "        print(dists[i])\n",
    "        res = reproj.xyz_to_xy(pnts, extrinsics[i],camera_mats[i],dists[i],i!=1)\n",
    "        print(res.shape)\n",
    "        axs[i].scatter(res[:,0,0],res[:,0,1])\n",
    "    \n",
    "    \n",
    "    fig.show()"
   ]
  },
  {
   "cell_type": "code",
   "execution_count": 5,
   "id": "bc6df3ef-d279-43a2-9023-0b69ed29374c",
   "metadata": {},
   "outputs": [
    {
     "data": {
      "application/vnd.jupyter.widget-view+json": {
       "model_id": "3e3c63a3d2ad4b59998e71033e087526",
       "version_major": 2,
       "version_minor": 0
      },
      "text/plain": [
       "Canvas(toolbar=Toolbar(toolitems=[('Home', 'Reset original view', 'home', 'home'), ('Back', 'Back to previous …"
      ]
     },
     "metadata": {},
     "output_type": "display_data"
    },
    {
     "name": "stdout",
     "output_type": "stream",
     "text": [
      "[[ 0.06606846]\n",
      " [-0.06201871]\n",
      " [ 0.05175079]\n",
      " [-0.01360452]]\n",
      "(1, 1, 2)\n",
      "[-0.09329021 -0.01537312  0.01682496 -0.02729508  2.05110677  0.09422046\n",
      " -0.00491259  1.43820744  0.02644767  0.0054625  -0.01511571 -0.01269736\n",
      " -0.02905832 -0.06767149]\n",
      "(1, 1, 2)\n",
      "[[ 0.06606846]\n",
      " [-0.06201871]\n",
      " [ 0.05175079]\n",
      " [-0.01360452]]\n",
      "(1, 1, 2)\n",
      "[[ 0.06606846]\n",
      " [-0.06201871]\n",
      " [ 0.05175079]\n",
      " [-0.01360452]]\n",
      "(1, 1, 2)\n"
     ]
    }
   ],
   "source": [
    "# np.array([[i,i,i] for i in range(-1,2)]).shape\n",
    "# print([d.shape for d in dists])\n",
    "# plot_points_on_frame(np.array([[i,i,i] for i in range(-3,5)]).astype(float).T)\n",
    "\n",
    "\n",
    "# plot_points_on_frame(np.array([[0.5,-4.4,0]]).astype(float).T)\n",
    "\n",
    "plot_points_on_frame(np.array([[-2.4,-.6,i] for i in range(30,31)]).astype(float).T)"
   ]
  },
  {
   "cell_type": "code",
   "execution_count": 15,
   "id": "bb1a3eb0-660d-4dde-8cf4-ec77a93dc85d",
   "metadata": {},
   "outputs": [
    {
     "data": {
      "text/plain": [
       "(4, 3)"
      ]
     },
     "execution_count": 15,
     "metadata": {},
     "output_type": "execute_result"
    }
   ],
   "source": [
    "# ext = np.array([np.array(extrinsic[f'{i}']).astype(np.double) for i in range(4)])\n",
    "pos = np.array([np.hstack((np.dot(-extrinsics[i,:-1,:-1].T,extrinsics[i,:-1,-1]),1)) for i in range(4)])\n",
    "# print(np.array(intrinsics[0]))\n",
    "print(pos)\n",
    "\n",
    "# self_pos = np.array([np.dot(np.pad(intrinsics[i],((0,0),(0,1))),np.dot(extrinsics[i],pos[i])) for i in range(4)])\n",
    "self_pos = np.array([np.dot(np.dot(np.pad(intrinsics[i],((0,0),(0,1))),extrinsics[i]),pos[i]) for i in range(4)])\n",
    "\n",
    "print(self_pos)\n",
    "self_pos /= self_pos[:,-1].reshape((-1,1))\n",
    "print(self_pos)\n",
    "print(get_pos_on_frame())\n",
    "\n",
    "# fig = plt.figure()\n",
    "# ax = fig.add_subplot(projection='3d')\n",
    "# ax.scatter(pos[:,0],pos[:,1],pos[:,2])\n",
    "# X,Y,Z = pos.T\n",
    "# max_range = np.array([X.max()-X.min(), Y.max()-Y.min(), Z.max()-Z.min()]).max()\n",
    "# Xb = 0.5*max_range*np.mgrid[-1:2:2,-1:2:2,-1:2:2][0].flatten() + 0.5*(X.max()+X.min())\n",
    "# Yb = 0.5*max_range*np.mgrid[-1:2:2,-1:2:2,-1:2:2][1].flatten() + 0.5*(Y.max()+Y.min())\n",
    "# Zb = 0.5*max_range*np.mgrid[-1:2:2,-1:2:2,-1:2:2][2].flatten() + 0.5*(Z.max()+Z.min())\n",
    "# # Comment or uncomment following both lines to test the fake bounding box:\n",
    "# for xb, yb, zb in zip(Xb, Yb, Zb):\n",
    "#    ax.plot([xb], [yb], [zb], 'w')\n",
    "# fig.show()\n"
   ]
  }
 ],
 "metadata": {
  "kernelspec": {
   "display_name": "Python 3",
   "language": "python",
   "name": "python3"
  },
  "language_info": {
   "codemirror_mode": {
    "name": "ipython",
    "version": 3
   },
   "file_extension": ".py",
   "mimetype": "text/x-python",
   "name": "python",
   "nbconvert_exporter": "python",
   "pygments_lexer": "ipython3",
   "version": "3.6.13"
  }
 },
 "nbformat": 4,
 "nbformat_minor": 5
}
