{
 "cells": [
  {
   "cell_type": "code",
   "metadata": {},
   "source": [
    "import deeplabcut\n"
   ],
   "outputs": [],
   "execution_count": null
  },
  {
   "cell_type": "code",
   "metadata": {},
   "source": [
    "project_name='side_cameras'\n",
    "experimenter='Devon'\n",
    "train_set='\\\\videos\\\\side_camera_training_set'\n",
    "working_dir = '\\\\DLC'"
   ],
   "outputs": [],
   "execution_count": null
  },
  {
   "cell_type": "code",
   "metadata": {
    "scrolled": true
   },
   "source": [
    "config_path = deeplabcut.create_new_project(project_name,\n",
    "                                            experimenter,\n",
    "                                            [train_set],\n",
    "                                           working_directory=working_dir,\n",
    "                                            videotype='.MOV',\n",
    "                                           copy_videos=True,\n",
    "                                           multianimal=False)"
   ],
   "outputs": [],
   "execution_count": null
  },
  {
   "cell_type": "code",
   "metadata": {},
   "source": [
    "print(config_path)"
   ],
   "outputs": [],
   "execution_count": null
  },
  {
   "cell_type": "code",
   "metadata": {},
   "source": [
    "# for side camera, config path is\n",
    "config_path=r'C:\\Users\\SchwartzLab\\PycharmProjects\\bahavior_rig\\DLC\\side_cameras-Devon-2021-03-10\\config.yaml'"
   ],
   "outputs": [],
   "execution_count": null
  },
  {
   "cell_type": "code",
   "metadata": {
    "scrolled": true
   },
   "source": [
    "deeplabcut.extract_frames(config_path, mode='automatic', algo='kmeans', userfeedback=False, crop=False)"
   ],
   "outputs": [],
   "execution_count": null
  },
  {
   "cell_type": "code",
   "metadata": {},
   "source": [
    "deeplabcut.label_frames(config_path)"
   ],
   "outputs": [],
   "execution_count": null
  },
  {
   "cell_type": "code",
   "metadata": {},
   "source": [
    "deeplabcut.check_labels(config_path)"
   ],
   "outputs": [],
   "execution_count": null
  },
  {
   "cell_type": "code",
   "metadata": {},
   "source": [
    "deeplabcut.create_training_dataset(config_path)"
   ],
   "outputs": [],
   "execution_count": null
  },
  {
   "cell_type": "code",
   "metadata": {},
   "source": [
    "deeplabcut.train_network(config_path,\n",
    "                        maxiters=60000,\n",
    "                        shuffle=1,\n",
    "                        max_snapshots_to_keep=10,\n",
    "                        saveiters=1200,\n",
    "                        displayiters=1200,\n",
    "                        gputouse=0)"
   ],
   "outputs": [],
   "execution_count": null
  },
  {
   "cell_type": "code",
   "metadata": {},
   "source": [
    "deeplabcut.evaluate_network(config_path)"
   ],
   "outputs": [],
   "execution_count": null
  },
  {
   "cell_type": "code",
   "metadata": {},
   "source": "novel_videos='list of the paths of your videos'\n",
   "outputs": [],
   "execution_count": null
  },
  {
   "cell_type": "code",
   "metadata": {},
   "source": [
    "deeplabcut.analyze_videos(config_path,\n",
    "                          novel_videos,\n",
    "                          save_as_csv=True,\n",
    "                          videotype='mov',\n",
    "                         shuffle=1,\n",
    "                         gputouse=0)"
   ],
   "outputs": [],
   "execution_count": null
  },
  {
   "cell_type": "code",
   "metadata": {},
   "source": [
    "deeplabcut.plot_trajectories(config_path, novel_videos)"
   ],
   "outputs": [],
   "execution_count": null
  },
  {
   "cell_type": "code",
   "metadata": {},
   "source": [
    "deeplabcut.create_labeled_video(config_path,novel_videos,save_frames=False,trailpoints=1,videotype='mov',draw_skeleton='True')"
   ],
   "outputs": [],
   "execution_count": null
  },
  {
   "cell_type": "code",
   "metadata": {},
   "source": [
    "import os\n",
    "# test on one set of videos\n",
    "# top camera dlc config\n",
    "top_config  = r'Top_camera\\config.yaml'\n",
    "# side camera dlc config\n",
    "side_config = r'Side_camera\\config.yaml'\n",
    "\n",
    "root_path = r'your_root_path'\n",
    "top_video = os.path.join(root_path,'processed','undistorted_camera_17391304.MOV')\n",
    "side_videos = [os.path.join(root_path,'processed','undistorted_camera_17391290.MOV'),\n",
    "            os.path.join(root_path,'processed','undistorted_camera_19287342.MOV'),\n",
    "            os.path.join(root_path,'processed','undistorted_camera_19412282.MOV')]\n",
    "\n"
   ],
   "outputs": [],
   "execution_count": null
  },
  {
   "cell_type": "code",
   "metadata": {},
   "source": [
    "# analyzing top camera\n",
    "deeplabcut.analyze_videos(top_config,\n",
    "                          top_video,\n",
    "                          save_as_csv=True,\n",
    "                          videotype='mov',\n",
    "                         shuffle=1,\n",
    "                         gputouse=0)\n",
    "# analyzing side cameras\n",
    "deeplabcut.analyze_videos(side_config,\n",
    "                          side_videos,\n",
    "                          save_as_csv=True,\n",
    "                          videotype='mov',\n",
    "                         shuffle=1,\n",
    "                         gputouse=0)"
   ],
   "outputs": [],
   "execution_count": null
  },
  {
   "cell_type": "code",
   "metadata": {},
   "source": [
    "deeplabcut.create_labeled_video(top_config,\n",
    "                                top_video,\n",
    "                                save_frames=False,\n",
    "                                trailpoints=1,\n",
    "                                videotype='mov',\n",
    "                                draw_skeleton='True')\n",
    "deeplabcut.create_labeled_video(side_config,\n",
    "                                side_videos,\n",
    "                                save_frames=False,\n",
    "                                trailpoints=1,\n",
    "                                videotype='mov',\n",
    "                                draw_skeleton='True')"
   ],
   "outputs": [],
   "execution_count": null
  },
  {
   "cell_type": "code",
   "metadata": {},
   "source": [],
   "outputs": [],
   "execution_count": null
  }
 ],
 "metadata": {
  "kernelspec": {
   "display_name": "Python 3",
   "language": "python",
   "name": "python3"
  },
  "language_info": {
   "codemirror_mode": {
    "name": "ipython",
    "version": 3
   },
   "file_extension": ".py",
   "mimetype": "text/x-python",
   "name": "python",
   "nbconvert_exporter": "python",
   "pygments_lexer": "ipython3",
   "version": "3.7.1"
  }
 },
 "nbformat": 4,
 "nbformat_minor": 4
}
