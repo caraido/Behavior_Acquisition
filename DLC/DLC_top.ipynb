{
 "cells": [
  {
   "cell_type": "code",
   "metadata": {},
   "source": [
    "import deeplabcut"
   ],
   "outputs": [],
   "execution_count": null
  },
  {
   "cell_type": "code",
   "metadata": {},
   "source": [
    "deeplabcut.__version__"
   ],
   "outputs": [],
   "execution_count": null
  },
  {
   "cell_type": "markdown",
   "metadata": {
    "tags": []
   },
   "source": [
    "## Step 1: create new project\n",
    "### config the project path and add videos (can be manually added after the project is created)"
   ]
  },
  {
   "cell_type": "code",
   "metadata": {},
   "source": [
    "#changable\n",
    "project_name='HipsDontLieBacksDo'\n",
    "experimenter='Devon'\n",
    "train_set=r'multimedia\\videos\\datafolder\\camera.mov'\n",
    "# better not change\n",
    "working_dir = r'\\DLC'\n"
   ],
   "outputs": [],
   "execution_count": null
  },
  {
   "cell_type": "code",
   "metadata": {
    "scrolled": true
   },
   "source": [
    "config_path = r'config.yaml'\n",
    "\n",
    "# if we want to add a new project instead of using the existing one\n",
    "# config_path = deeplabcut.create_new_project(project_name,\n",
    "#                                              experimenter,\n",
    "#                                              [train_set],\n",
    "#                                             working_directory=working_dir,\n",
    "#                                              videotype='.mov',\n",
    "#                                             copy_videos=True,\n",
    "#                                             multianimal=True)"
   ],
   "outputs": [],
   "execution_count": null
  },
  {
   "cell_type": "markdown",
   "metadata": {},
   "source": [
    "### print off config_path and record it for future use"
   ]
  },
  {
   "cell_type": "code",
   "metadata": {},
   "source": [
    "print(config_path)"
   ],
   "outputs": [],
   "execution_count": null
  },
  {
   "cell_type": "markdown",
   "metadata": {
    "tags": []
   },
   "source": [
    "# Skip this if creating a new model\n",
    "### Re-train： Do these steps first\n",
    "\n",
    "Delete archive files EXCEPT pose_cfg.yaml\n",
    "\n",
    "Add videos under .\\videos folder\n",
    "\n",
    "Add the absolute paths of the videos in the configuration file"
   ]
  },
  {
   "cell_type": "code",
   "metadata": {},
   "source": "config_path = r'config.yaml'",
   "outputs": [],
   "execution_count": null
  },
  {
   "cell_type": "markdown",
   "metadata": {},
   "source": [
    "## Step 2 extract key frames \n",
    "### Re-train： if we don't want to extract key frames on the old videos repetitively (most of the cases), we need to comment out the path of the old videos in the configuration file temporarily."
   ]
  },
  {
   "cell_type": "code",
   "metadata": {
    "scrolled": true
   },
   "source": [
    "deeplabcut.extract_frames(config_path, mode='automatic', algo='kmeans', userfeedback=False, crop=False)"
   ],
   "outputs": [],
   "execution_count": null
  },
  {
   "cell_type": "markdown",
   "metadata": {},
   "source": [
    "## Step 3 label the frames (manually)"
   ]
  },
  {
   "cell_type": "code",
   "metadata": {},
   "source": [
    "deeplabcut.label_frames(config_path)"
   ],
   "outputs": [],
   "execution_count": null
  },
  {
   "cell_type": "markdown",
   "metadata": {},
   "source": [
    "### check the labels before proceeding."
   ]
  },
  {
   "cell_type": "code",
   "metadata": {},
   "source": [
    "deeplabcut.check_labels(config_path)"
   ],
   "outputs": [],
   "execution_count": null
  },
  {
   "cell_type": "markdown",
   "metadata": {},
   "source": [
    "## Step 4 create training dataset. \n",
    "### for single animal project\n",
    "### Retrain: Here we need to go to the configuration file to un-comment the old videos path if we want to include them in the re-training"
   ]
  },
  {
   "cell_type": "code",
   "metadata": {},
   "source": [
    "deeplabcut.create_training_dataset(config_path)"
   ],
   "outputs": [],
   "execution_count": null
  },
  {
   "cell_type": "markdown",
   "metadata": {},
   "source": [
    "### for multi animal project"
   ]
  },
  {
   "cell_type": "code",
   "metadata": {},
   "source": [
    "\n",
    "deeplabcut.cropimagesandlabels(config_path)"
   ],
   "outputs": [],
   "execution_count": null
  },
  {
   "cell_type": "code",
   "metadata": {},
   "source": [
    "deeplabcut.create_multianimaltraining_dataset(config_path)"
   ],
   "outputs": [],
   "execution_count": null
  },
  {
   "cell_type": "markdown",
   "metadata": {},
   "source": [
    "## Step 5 train the network (usually with only one shuffle is enough)\n",
    "\n",
    "### Re-train: this is the last step. Saved files are under .\\dlc-models\\iteration-0\\Alec_second_tryDec7-trainset95shuffle1\\train"
   ]
  },
  {
   "cell_type": "code",
   "metadata": {},
   "source": [
    "deeplabcut.train_network(config_path,\n",
    "                        maxiters=200000,\n",
    "                        shuffle=1,\n",
    "                        max_snapshots_to_keep=10,\n",
    "                        saveiters=2400,\n",
    "                        displayiters=2400,\n",
    "                        gputouse=0)"
   ],
   "outputs": [],
   "execution_count": null
  },
  {
   "cell_type": "markdown",
   "metadata": {},
   "source": [
    "## Step 5 evaluate the network"
   ]
  },
  {
   "cell_type": "code",
   "metadata": {
    "scrolled": true
   },
   "source": [
    "deeplabcut.evaluate_network(config_path)"
   ],
   "outputs": [],
   "execution_count": null
  },
  {
   "cell_type": "code",
   "metadata": {},
   "source": [
    "deeplabcut.extract_save_all_maps(config_path, shuffle=1, Indices=[0, 5])"
   ],
   "outputs": [],
   "execution_count": null
  },
  {
   "cell_type": "code",
   "metadata": {
    "tags": []
   },
   "source": [
    "print(config_path)\n",
    "##outputs _meta.pickle, _full.pickle\n",
    "deeplabcut.analyze_videos(config_path, [r'your_path\\camera_17391304.MOV'])\n",
    "\n",
    "##doesn't stich tracklets together, just plots all tracks above confidence\n",
    "deeplabcut.create_video_with_all_detections(config_path, [r'your_path\\camera_17391304.MOV'])\n",
    "\n",
    "##TODO: deeplabcut.find_outliers_in_raw_data(config_path, pickle_file, video_file) #where pickle_file is _full.pickle\n",
    "\n",
    "##outputs _assemblies.pickle, _el.pickle\n",
    "deeplabcut.convert_detections2tracklets(\n",
    "    config_path, \n",
    "    [r'your_path\\camera_17391304.MOV'],\n",
    "    videotype='mov'\n",
    ")\n",
    "\n",
    "##TODO: use gui for refine_tracklets; also: find_outlier_in_raw_data using _assemblies.pickle\n",
    "\n",
    "\n",
    "##creates a folder for this camera with labelled video/frames \n",
    "deeplabcut.utils.make_labeled_video.create_video_from_pickled_tracks(\n",
    "    r'your_path\\camera_17391304.MOV',\n",
    "    r'your_path\\camera_17391304DLC_dlcrnetms5_HipsDontLieBacksDoOct27shuffle1_200000_assemblies.pickle',\n",
    "    destfolder=r\"D:\\\\\", output_name=\"test\", pcutoff=0.6\n",
    ")\n"
   ],
   "outputs": [],
   "execution_count": null
  },
  {
   "cell_type": "code",
   "metadata": {},
   "source": [
    "deeplabcut.convert_detections2tracklets(\n",
    "    config_path, \n",
    "    r'your_path\\camera_17391304.MOV',\n",
    "    videotype='mov', overwrite=False\n",
    ")\n",
    "deeplabcut.refine_tracklets(\n",
    "    config_path,\n",
    "    r'your_path\\camera_17391304DLC_dlcrnetms5_HipsDontLieBacksDoOct27shuffle1_200000_assemblies.pickle',\n",
    "    r'your_path\\camera_17391304.MOV',\n",
    ")\n"
   ],
   "outputs": [],
   "execution_count": null
  },
  {
   "cell_type": "markdown",
   "metadata": {},
   "source": [
    "## step 6 anaylze novel videos\n",
    "\n",
    "### path of all novel videos\n"
   ]
  },
  {
   "cell_type": "code",
   "metadata": {},
   "source": [
    "import os\n",
    "novel_video_path = r'\\multimedia\\videos'\n",
    "video_list = os.listdir(novel_video_path)\n",
    "novel_videos=[novel_video_path+ '\\\\'+video+'\\\\camera_17391304.MOV' for video in video_list]\n",
    "print(novel_videos)"
   ],
   "outputs": [],
   "execution_count": null
  },
  {
   "cell_type": "code",
   "metadata": {},
   "source": [
    "deeplabcut.analyze_videos(config_path,\n",
    "                          novel_videos,\n",
    "                          save_as_csv=True,\n",
    "                          videotype='mov',\n",
    "                         shuffle=1)"
   ],
   "outputs": [],
   "execution_count": null
  },
  {
   "cell_type": "code",
   "metadata": {},
   "source": [
    "deeplabcut.create_video_with_all_detections(config_path, [novel_videos[0]])"
   ],
   "outputs": [],
   "execution_count": null
  },
  {
   "cell_type": "code",
   "metadata": {},
   "source": [
    "novel_videos[0]"
   ],
   "outputs": [],
   "execution_count": null
  },
  {
   "cell_type": "markdown",
   "metadata": {},
   "source": [
    "### maDLC: detect tracklets"
   ]
  },
  {
   "cell_type": "code",
   "metadata": {},
   "source": [
    "for video in novel_videos:\n",
    "    deeplabcut.convert_detections2tracklets(config_path, \n",
    "                                            video, \n",
    "                                            videotype='mov', \n",
    "                                            shuffle=1, \n",
    "                                            #trainingsetindex=0, \n",
    "                                            track_method='box')"
   ],
   "outputs": [],
   "execution_count": null
  },
  {
   "cell_type": "code",
   "metadata": {},
   "source": [
    "import pprint\n",
    "\n",
    "pickle_files = []\n",
    "for vid in novel_videos:\n",
    "    pickle_files.append(f'{vid[:-4]}DLC_dlcrnetms5_HipsOrNeckBackDontLieOct12shuffle1_200000_bx.pickle')\n",
    "\n",
    "\n",
    "pprint.pprint({k:v for k,v in zip(novel_videos,pickle_files)})"
   ],
   "outputs": [],
   "execution_count": null
  },
  {
   "cell_type": "code",
   "metadata": {},
   "source": [
    "# deeplabcut.refine_tracklets(config_path, pickle_files[0], novel_videos[0], min_swap_len=2, min_tracklet_len=2, trail_len=50)\n",
    "deeplabcut.stitch_tracklets(config_path, novel_videos, track_method='box', n_tracks=1)\n"
   ],
   "outputs": [],
   "execution_count": null
  },
  {
   "cell_type": "code",
   "metadata": {},
   "source": [
    "deeplabcut.filterpredictions(config_path, novel_videos, videotype='MOV',track_method='box')"
   ],
   "outputs": [],
   "execution_count": null
  },
  {
   "cell_type": "code",
   "metadata": {},
   "source": [
    "deeplabcut.plot_trajectories(config_path, novel_videos, videotype='MOV', track_method='box')"
   ],
   "outputs": [],
   "execution_count": null
  },
  {
   "cell_type": "code",
   "metadata": {},
   "source": [
    "deeplabcut.create_labeled_video(config_path,novel_videos,save_frames=False,trailpoints=5,videotype='mov',draw_skeleton='True')"
   ],
   "outputs": [],
   "execution_count": null
  },
  {
   "cell_type": "markdown",
   "metadata": {},
   "source": [
    "# The only step for exporting model for dlc-live"
   ]
  },
  {
   "cell_type": "code",
   "metadata": {},
   "source": [
    "deeplabcut.export_model(config_path,shuffle=1,\n",
    "                        TFGPUinference=False,\n",
    "                        make_tar=False)\n"
   ],
   "outputs": [],
   "execution_count": null
  }
 ],
 "metadata": {
  "kernelspec": {
   "display_name": "Python 3 (ipykernel)",
   "language": "python",
   "name": "python3"
  },
  "language_info": {
   "codemirror_mode": {
    "name": "ipython",
    "version": 3
   },
   "file_extension": ".py",
   "mimetype": "text/x-python",
   "name": "python",
   "nbconvert_exporter": "python",
   "pygments_lexer": "ipython3",
   "version": "3.8.12"
  }
 },
 "nbformat": 4,
 "nbformat_minor": 4
}
