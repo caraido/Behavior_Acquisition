{
 "cells": [
  {
   "cell_type": "code",
   "execution_count": 1,
   "metadata": {},
   "outputs": [],
   "source": [
    "import deeplabcut"
   ]
  },
  {
   "cell_type": "code",
   "execution_count": null,
   "metadata": {},
   "outputs": [],
   "source": [
    "deeplabcut.__version__"
   ]
  },
  {
   "cell_type": "markdown",
   "metadata": {
    "tags": []
   },
   "source": [
    "## Step 1: create new project\n",
    "### config the project path and add videos (can be manually added after the project is created)"
   ]
  },
  {
   "cell_type": "code",
   "execution_count": 2,
   "metadata": {},
   "outputs": [],
   "source": [
    "#changable\n",
    "project_name='HipsDontLieBacksDo'\n",
    "experimenter='Devon'\n",
    "train_set=r'C:\\Users\\SchwartzLab\\PycharmProjects\\bahavior_rig\\multimedia\\videos\\2020-12-04_1yF2M_Male1_Bully_A_Female_C\\camera_17391304.mov'\n",
    "# better not change\n",
    "working_dir = 'C:\\\\Users\\\\SchwartzLab\\\\PycharmProjects\\\\bahavior_rig\\\\DLC'\n"
   ]
  },
  {
   "cell_type": "code",
   "execution_count": 3,
   "metadata": {
    "scrolled": true
   },
   "outputs": [],
   "source": [
    "config_path = r'C:\\Users\\SchwartzLab\\PycharmProjects\\bahavior_rig\\DLC\\HipsDontLieBacksDo-Devon-2021-10-27\\config.yaml'\n",
    "\n",
    "# config_path = deeplabcut.create_new_project(project_name,\n",
    "#                                              experimenter,\n",
    "#                                              [train_set],\n",
    "#                                             working_directory=working_dir,\n",
    "#                                              videotype='.mov',\n",
    "#                                             copy_videos=True,\n",
    "#                                             multianimal=True)"
   ]
  },
  {
   "cell_type": "markdown",
   "metadata": {},
   "source": [
    "### print off config_path and record it for future use"
   ]
  },
  {
   "cell_type": "code",
   "execution_count": null,
   "metadata": {},
   "outputs": [],
   "source": [
    "print(config_path)"
   ]
  },
  {
   "cell_type": "markdown",
   "metadata": {
    "tags": []
   },
   "source": [
    "# Skip this if creating a new model\n",
    "### Re-train： Do these steps first \n",
    "\n",
    "Delete the files under .\\training-datasets\\iteration-0\\UnaugmentedDataSet_Alec_second_tryDec7 folder\n",
    "\n",
    "Delete/ archive the files EXCEPT pose_cfg.yaml under .\\dlc-models\\iteration-0\\Alec_second_tryDec7-trainset95shuffle1\\train\n",
    "\n",
    "Add videos under .\\videos folder\n",
    "\n",
    "Add the absolute paths of the videos in the configuration file"
   ]
  },
  {
   "cell_type": "code",
   "execution_count": null,
   "metadata": {},
   "outputs": [],
   "source": [
    "# second try\n",
    "# config_path=r'C:\\Users\\SchwartzLab\\PycharmProjects\\bahavior_rig\\DLC\\Alec_second_try-Devon-2020-12-07\\config.yaml'\n",
    "\n",
    "# third try\n",
    "config_path = r'C:\\Users\\SchwartzLab\\PycharmProjects\\bahavior_rig\\DLC\\HipsDontLieBacksDo-Devon-2021-10-27\\config.yaml'\n",
    "\n"
   ]
  },
  {
   "cell_type": "markdown",
   "metadata": {},
   "source": [
    "## Step 2 extract key frames \n",
    "### Re-train： if we don't want to extract key frames on the old videos repetitively (most of the cases), we need to comment out the path of the old videos in the configuration file temporarily."
   ]
  },
  {
   "cell_type": "code",
   "execution_count": null,
   "metadata": {
    "scrolled": true
   },
   "outputs": [],
   "source": [
    "deeplabcut.extract_frames(config_path, mode='automatic', algo='kmeans', userfeedback=False, crop=False)"
   ]
  },
  {
   "cell_type": "markdown",
   "metadata": {},
   "source": [
    "## Step 3 label the frames (manually)"
   ]
  },
  {
   "cell_type": "code",
   "execution_count": null,
   "metadata": {},
   "outputs": [],
   "source": [
    "deeplabcut.label_frames(config_path)"
   ]
  },
  {
   "cell_type": "markdown",
   "metadata": {},
   "source": [
    "### check the labels before proceeding."
   ]
  },
  {
   "cell_type": "code",
   "execution_count": null,
   "metadata": {},
   "outputs": [],
   "source": [
    "deeplabcut.check_labels(config_path)"
   ]
  },
  {
   "cell_type": "markdown",
   "metadata": {},
   "source": [
    "## Step 4 create training dataset. \n",
    "### for single animal project\n",
    "### Retrain: Here we need to go to the configuration file to un-comment the old videos path if we want to include them in the re-training"
   ]
  },
  {
   "cell_type": "code",
   "execution_count": null,
   "metadata": {},
   "outputs": [],
   "source": [
    "deeplabcut.create_training_dataset(config_path)"
   ]
  },
  {
   "cell_type": "markdown",
   "metadata": {},
   "source": [
    "### for multi animal project"
   ]
  },
  {
   "cell_type": "code",
   "execution_count": null,
   "metadata": {},
   "outputs": [],
   "source": [
    "\n",
    "deeplabcut.cropimagesandlabels(config_path)"
   ]
  },
  {
   "cell_type": "code",
   "execution_count": null,
   "metadata": {},
   "outputs": [],
   "source": [
    "deeplabcut.create_multianimaltraining_dataset(config_path)"
   ]
  },
  {
   "cell_type": "markdown",
   "metadata": {},
   "source": [
    "## Step 5 train the network (usually with only one shuffle is enough)\n",
    "\n",
    "### Re-train: this is the last step. Saved files are under .\\dlc-models\\iteration-0\\Alec_second_tryDec7-trainset95shuffle1\\train"
   ]
  },
  {
   "cell_type": "code",
   "execution_count": null,
   "metadata": {},
   "outputs": [],
   "source": [
    "deeplabcut.train_network(config_path,\n",
    "                        maxiters=200000,\n",
    "                        shuffle=1,\n",
    "                        max_snapshots_to_keep=10,\n",
    "                        saveiters=2400,\n",
    "                        displayiters=2400,\n",
    "                        gputouse=0)"
   ]
  },
  {
   "cell_type": "markdown",
   "metadata": {},
   "source": [
    "## Step 5 evaluate the network"
   ]
  },
  {
   "cell_type": "code",
   "execution_count": null,
   "metadata": {
    "scrolled": true
   },
   "outputs": [],
   "source": [
    "deeplabcut.evaluate_network(config_path)"
   ]
  },
  {
   "cell_type": "code",
   "execution_count": null,
   "metadata": {},
   "outputs": [],
   "source": [
    "deeplabcut.extract_save_all_maps(config_path, shuffle=1, Indices=[0, 5])"
   ]
  },
  {
   "cell_type": "code",
   "execution_count": 6,
   "metadata": {
    "tags": []
   },
   "outputs": [
    {
     "name": "stdout",
     "output_type": "stream",
     "text": [
      "C:\\Users\\SchwartzLab\\PycharmProjects\\bahavior_rig\\DLC\\HipsDontLieBacksDo-Devon-2021-10-27\\config.yaml\n",
      "Detections already plotted,  D:\\Desktop\\1421\\1045_2021-10-12_female_unknown_social_status_habituation\\camera_17391304DLC_dlcrnetms5_HipsDontLieBacksDoOct27shuffle1_200000_full.mp4\n",
      "Using snapshot-200000 for model C:\\Users\\SchwartzLab\\PycharmProjects\\bahavior_rig\\DLC\\HipsDontLieBacksDo-Devon-2021-10-27\\dlc-models\\iteration-0\\HipsDontLieBacksDoOct27-trainset95shuffle1\n",
      "Processing...  D:\\Desktop\\1421\\1045_2021-10-12_female_unknown_social_status_habituation\\camera_17391304.MOV\n",
      "D:\\Desktop\\1421\\1045_2021-10-12_female_unknown_social_status_habituation  already exists!\n",
      "Analyzing D:\\Desktop\\1421\\1045_2021-10-12_female_unknown_social_status_habituation\\camera_17391304DLC_dlcrnetms5_HipsDontLieBacksDoOct27shuffle1_200000.h5\n"
     ]
    },
    {
     "name": "stderr",
     "output_type": "stream",
     "text": [
      "1074it [00:02, 466.96it/s]\n",
      "1074it [00:05, 201.44it/s]\n"
     ]
    },
    {
     "name": "stdout",
     "output_type": "stream",
     "text": [
      "The tracklets were created. Now you can 'refine_tracklets'.\n"
     ]
    }
   ],
   "source": [
    "print(config_path)\n",
    "##outputs _meta.pickle, _full.pickle\n",
    "deeplabcut.analyze_videos(config_path, [r'D:\\Desktop\\1421\\1045_2021-10-12_female_unknown_social_status_habituation\\camera_17391304.MOV'])\n",
    "\n",
    "##doesn't stich tracklets together, just plots all tracks above confidence\n",
    "deeplabcut.create_video_with_all_detections(config_path, [r'D:\\Desktop\\1421\\1045_2021-10-12_female_unknown_social_status_habituation\\camera_17391304.MOV'])\n",
    "\n",
    "##TODO: deeplabcut.find_outliers_in_raw_data(config_path, pickle_file, video_file) #where pickle_file is _full.pickle\n",
    "\n",
    "##outputs _assemblies.pickle, _el.pickle\n",
    "deeplabcut.convert_detections2tracklets(\n",
    "    config_path, \n",
    "    [r'D:\\Desktop\\1421\\1045_2021-10-12_female_unknown_social_status_habituation\\camera_17391304.MOV'], \n",
    "    videotype='mov'\n",
    ")\n",
    "\n",
    "##TODO: use gui for refine_tracklets; also: find_outlier_in_raw_data using _assemblies.pickle\n",
    "\n",
    "\n",
    "##creates a folder for this camera with labelled video/frames \n",
    "deeplabcut.utils.make_labeled_video.create_video_from_pickled_tracks(\n",
    "    r'D:\\Desktop\\1421\\1045_2021-10-12_female_unknown_social_status_habituation\\camera_17391304.MOV',\n",
    "    r'D:\\Desktop\\1421\\1045_2021-10-12_female_unknown_social_status_habituation\\camera_17391304DLC_dlcrnetms5_HipsDontLieBacksDoOct27shuffle1_200000_assemblies.pickle',\n",
    "    destfolder=r\"D:\\\\\", output_name=\"test\", pcutoff=0.6\n",
    ")\n",
    "\n",
    "\n",
    "# # deeplabcut.stitch_tracklets(config_path, [r'D:\\Desktop\\1421\\1045_2021-10-12_female_unknown_social_status_habituation\\camera_17391304.MOV'], track_method='box', n_tracks=1)\n",
    "# # deeplabcut.filterpredictions(config_path, [r'D:\\Desktop\\1421\\1045_2021-10-12_female_unknown_social_status_habituation\\camera_17391304.MOV'], videotype='MOV',track_method='box')\n",
    "# # deeplabcut.plot_trajectories(config_path, [r'D:\\Desktop\\1421\\1045_2021-10-12_female_unknown_social_status_habituation\\camera_17391304.MOV'], videotype='MOV', track_method='box')\n",
    "# # deeplabcut.create_labeled_video(config_path,[r'D:\\Desktop\\1421\\1045_2021-10-12_female_unknown_social_status_habituation\\camera_17391304.MOV'],videotype='MOV',filtered=True,save_frames=True,trailpoints=5,draw_skeleton='True',destfolder=r'D:\\\\')\n",
    "# import deeplabcut.utils.make_labeled_video \n",
    "\n",
    "# make_labeled_video.create_video_from_pickled_tracks(\n",
    "#     r'D:\\Desktop\\1421\\1045_2021-10-12_female_unknown_social_status_habituation\\camera_17391304.MOV',\n",
    "#     r'D:\\Desktop\\1421\\1045_2021-10-12_female_unknown_social_status_habituation\\camera_17391304DLC_dlcrnetms5_HipsOrNeckBackDontLieOct12shuffle1_200000_assemblies.pickle',\n",
    "#     destfolder=r\"D:\\\\\", output_name=\"test\", pcutoff=0.6\n",
    "# )\n",
    "# deeplabcut.create_labeled_video(config_path,r'D:\\\\Desktop\\\\1421\\\\1045_2021-10-12_female_unknown_social_status_habituation\\\\camera_17391304.MOV',videotype='MOV',filtered=True,trailpoints=5,draw_skeleton='True',destfolder=r'D:\\\\')\n",
    "# deeplabcut.refine_tracklets()"
   ]
  },
  {
   "cell_type": "code",
   "execution_count": 14,
   "metadata": {},
   "outputs": [
    {
     "name": "stdout",
     "output_type": "stream",
     "text": [
      "Using snapshot-200000 for model C:\\Users\\SchwartzLab\\PycharmProjects\\bahavior_rig\\DLC\\HipsDontLieBacksDo-Devon-2021-10-27\\dlc-models\\iteration-0\\HipsDontLieBacksDoOct27-trainset95shuffle1\n",
      "Processing...  D:\\Desktop\\1421\\1045_2021-10-12_female_unknown_social_status_habituation\\camera_17391304.MOV\n",
      "D:\\Desktop\\1421\\1045_2021-10-12_female_unknown_social_status_habituation  already exists!\n",
      "Analyzing D:\\Desktop\\1421\\1045_2021-10-12_female_unknown_social_status_habituation\\camera_17391304DLC_dlcrnetms5_HipsDontLieBacksDoOct27shuffle1_200000.h5\n"
     ]
    },
    {
     "name": "stderr",
     "output_type": "stream",
     "text": [
      "1074it [00:02, 422.71it/s]\n",
      "1074it [00:00, 1567.47it/s]\n"
     ]
    },
    {
     "name": "stdout",
     "output_type": "stream",
     "text": [
      "The tracklets were created. Now you can 'refine_tracklets'.\n"
     ]
    },
    {
     "ename": "KeyError",
     "evalue": "'header'",
     "output_type": "error",
     "traceback": [
      "\u001b[1;31m---------------------------------------------------------------------------\u001b[0m",
      "\u001b[1;31mKeyError\u001b[0m                                  Traceback (most recent call last)",
      "\u001b[1;32mC:\\Users\\SCHWAR~1\\AppData\\Local\\Temp/ipykernel_9532/1356150804.py\u001b[0m in \u001b[0;36m<module>\u001b[1;34m\u001b[0m\n\u001b[0;32m      4\u001b[0m     \u001b[0mvideotype\u001b[0m\u001b[1;33m=\u001b[0m\u001b[1;34m'mov'\u001b[0m\u001b[1;33m,\u001b[0m \u001b[0moverwrite\u001b[0m\u001b[1;33m=\u001b[0m\u001b[1;32mTrue\u001b[0m\u001b[1;33m\u001b[0m\u001b[1;33m\u001b[0m\u001b[0m\n\u001b[0;32m      5\u001b[0m )\n\u001b[1;32m----> 6\u001b[1;33m deeplabcut.refine_tracklets(\n\u001b[0m\u001b[0;32m      7\u001b[0m     \u001b[0mconfig_path\u001b[0m\u001b[1;33m,\u001b[0m\u001b[1;33m\u001b[0m\u001b[1;33m\u001b[0m\u001b[0m\n\u001b[0;32m      8\u001b[0m     \u001b[1;34mr'D:\\Desktop\\1421\\1045_2021-10-12_female_unknown_social_status_habituation\\camera_17391304DLC_dlcrnetms5_HipsDontLieBacksDoOct27shuffle1_200000_assemblies.pickle'\u001b[0m\u001b[1;33m,\u001b[0m\u001b[1;33m\u001b[0m\u001b[1;33m\u001b[0m\u001b[0m\n",
      "\u001b[1;32m~\\anaconda3\\envs\\dlc2\\lib\\site-packages\\deeplabcut\\gui\\tracklet_toolbox.py\u001b[0m in \u001b[0;36mrefine_tracklets\u001b[1;34m(config, pickle_or_h5_file, video, min_swap_len, min_tracklet_len, max_gap, trail_len)\u001b[0m\n\u001b[0;32m    789\u001b[0m     \u001b[0mmanager\u001b[0m \u001b[1;33m=\u001b[0m \u001b[0mTrackletManager\u001b[0m\u001b[1;33m(\u001b[0m\u001b[0mconfig\u001b[0m\u001b[1;33m,\u001b[0m \u001b[0mmin_swap_len\u001b[0m\u001b[1;33m,\u001b[0m \u001b[0mmin_tracklet_len\u001b[0m\u001b[1;33m,\u001b[0m \u001b[0mmax_gap\u001b[0m\u001b[1;33m)\u001b[0m\u001b[1;33m\u001b[0m\u001b[1;33m\u001b[0m\u001b[0m\n\u001b[0;32m    790\u001b[0m     \u001b[1;32mif\u001b[0m \u001b[0mpickle_or_h5_file\u001b[0m\u001b[1;33m.\u001b[0m\u001b[0mendswith\u001b[0m\u001b[1;33m(\u001b[0m\u001b[1;34m\"pickle\"\u001b[0m\u001b[1;33m)\u001b[0m\u001b[1;33m:\u001b[0m\u001b[1;33m\u001b[0m\u001b[1;33m\u001b[0m\u001b[0m\n\u001b[1;32m--> 791\u001b[1;33m         \u001b[0mmanager\u001b[0m\u001b[1;33m.\u001b[0m\u001b[0mload_tracklets_from_pickle\u001b[0m\u001b[1;33m(\u001b[0m\u001b[0mpickle_or_h5_file\u001b[0m\u001b[1;33m)\u001b[0m\u001b[1;33m\u001b[0m\u001b[1;33m\u001b[0m\u001b[0m\n\u001b[0m\u001b[0;32m    792\u001b[0m     \u001b[1;32melse\u001b[0m\u001b[1;33m:\u001b[0m\u001b[1;33m\u001b[0m\u001b[1;33m\u001b[0m\u001b[0m\n\u001b[0;32m    793\u001b[0m         \u001b[0mmanager\u001b[0m\u001b[1;33m.\u001b[0m\u001b[0mload_tracklets_from_hdf\u001b[0m\u001b[1;33m(\u001b[0m\u001b[0mpickle_or_h5_file\u001b[0m\u001b[1;33m)\u001b[0m\u001b[1;33m\u001b[0m\u001b[1;33m\u001b[0m\u001b[0m\n",
      "\u001b[1;32m~\\anaconda3\\envs\\dlc2\\lib\\site-packages\\deeplabcut\\refine_training_dataset\\tracklets.py\u001b[0m in \u001b[0;36mload_tracklets_from_pickle\u001b[1;34m(self, filename, auto_fill)\u001b[0m\n\u001b[0;32m    231\u001b[0m         \u001b[1;32mwith\u001b[0m \u001b[0mopen\u001b[0m\u001b[1;33m(\u001b[0m\u001b[0mfilename\u001b[0m\u001b[1;33m,\u001b[0m \u001b[1;34m\"rb\"\u001b[0m\u001b[1;33m)\u001b[0m \u001b[1;32mas\u001b[0m \u001b[0mfile\u001b[0m\u001b[1;33m:\u001b[0m\u001b[1;33m\u001b[0m\u001b[1;33m\u001b[0m\u001b[0m\n\u001b[0;32m    232\u001b[0m             \u001b[0mtracklets\u001b[0m \u001b[1;33m=\u001b[0m \u001b[0mpickle\u001b[0m\u001b[1;33m.\u001b[0m\u001b[0mload\u001b[0m\u001b[1;33m(\u001b[0m\u001b[0mfile\u001b[0m\u001b[1;33m)\u001b[0m\u001b[1;33m\u001b[0m\u001b[1;33m\u001b[0m\u001b[0m\n\u001b[1;32m--> 233\u001b[1;33m         \u001b[0mself\u001b[0m\u001b[1;33m.\u001b[0m\u001b[0m_load_tracklets\u001b[0m\u001b[1;33m(\u001b[0m\u001b[0mtracklets\u001b[0m\u001b[1;33m,\u001b[0m \u001b[0mauto_fill\u001b[0m\u001b[1;33m)\u001b[0m\u001b[1;33m\u001b[0m\u001b[1;33m\u001b[0m\u001b[0m\n\u001b[0m\u001b[0;32m    234\u001b[0m         \u001b[0mself\u001b[0m\u001b[1;33m.\u001b[0m\u001b[0m_xy\u001b[0m \u001b[1;33m=\u001b[0m \u001b[0mself\u001b[0m\u001b[1;33m.\u001b[0m\u001b[0mxy\u001b[0m\u001b[1;33m.\u001b[0m\u001b[0mcopy\u001b[0m\u001b[1;33m(\u001b[0m\u001b[1;33m)\u001b[0m\u001b[1;33m\u001b[0m\u001b[1;33m\u001b[0m\u001b[0m\n\u001b[0;32m    235\u001b[0m \u001b[1;33m\u001b[0m\u001b[0m\n",
      "\u001b[1;32m~\\anaconda3\\envs\\dlc2\\lib\\site-packages\\deeplabcut\\refine_training_dataset\\tracklets.py\u001b[0m in \u001b[0;36m_load_tracklets\u001b[1;34m(self, tracklets, auto_fill)\u001b[0m\n\u001b[0;32m     60\u001b[0m \u001b[1;33m\u001b[0m\u001b[0m\n\u001b[0;32m     61\u001b[0m     \u001b[1;32mdef\u001b[0m \u001b[0m_load_tracklets\u001b[0m\u001b[1;33m(\u001b[0m\u001b[0mself\u001b[0m\u001b[1;33m,\u001b[0m \u001b[0mtracklets\u001b[0m\u001b[1;33m,\u001b[0m \u001b[0mauto_fill\u001b[0m\u001b[1;33m)\u001b[0m\u001b[1;33m:\u001b[0m\u001b[1;33m\u001b[0m\u001b[1;33m\u001b[0m\u001b[0m\n\u001b[1;32m---> 62\u001b[1;33m         \u001b[0mheader\u001b[0m \u001b[1;33m=\u001b[0m \u001b[0mtracklets\u001b[0m\u001b[1;33m.\u001b[0m\u001b[0mpop\u001b[0m\u001b[1;33m(\u001b[0m\u001b[1;34m\"header\"\u001b[0m\u001b[1;33m)\u001b[0m\u001b[1;33m\u001b[0m\u001b[1;33m\u001b[0m\u001b[0m\n\u001b[0m\u001b[0;32m     63\u001b[0m         \u001b[0mself\u001b[0m\u001b[1;33m.\u001b[0m\u001b[0mscorer\u001b[0m \u001b[1;33m=\u001b[0m \u001b[0mheader\u001b[0m\u001b[1;33m.\u001b[0m\u001b[0mget_level_values\u001b[0m\u001b[1;33m(\u001b[0m\u001b[1;34m\"scorer\"\u001b[0m\u001b[1;33m)\u001b[0m\u001b[1;33m.\u001b[0m\u001b[0munique\u001b[0m\u001b[1;33m(\u001b[0m\u001b[1;33m)\u001b[0m\u001b[1;33m.\u001b[0m\u001b[0mto_list\u001b[0m\u001b[1;33m(\u001b[0m\u001b[1;33m)\u001b[0m\u001b[1;33m\u001b[0m\u001b[1;33m\u001b[0m\u001b[0m\n\u001b[0;32m     64\u001b[0m         \u001b[0mbodyparts\u001b[0m \u001b[1;33m=\u001b[0m \u001b[0mheader\u001b[0m\u001b[1;33m.\u001b[0m\u001b[0mget_level_values\u001b[0m\u001b[1;33m(\u001b[0m\u001b[1;34m\"bodyparts\"\u001b[0m\u001b[1;33m)\u001b[0m\u001b[1;33m\u001b[0m\u001b[1;33m\u001b[0m\u001b[0m\n",
      "\u001b[1;31mKeyError\u001b[0m: 'header'"
     ]
    }
   ],
   "source": [
    "deeplabcut.convert_detections2tracklets(\n",
    "    config_path, \n",
    "    r'D:\\Desktop\\1421\\1045_2021-10-12_female_unknown_social_status_habituation\\camera_17391304.MOV', \n",
    "    videotype='mov', overwrite=False\n",
    ")\n",
    "deeplabcut.refine_tracklets(\n",
    "    config_path,\n",
    "    r'D:\\Desktop\\1421\\1045_2021-10-12_female_unknown_social_status_habituation\\camera_17391304DLC_dlcrnetms5_HipsDontLieBacksDoOct27shuffle1_200000_assemblies.pickle',\n",
    "    r'D:\\Desktop\\1421\\1045_2021-10-12_female_unknown_social_status_habituation\\camera_17391304.MOV',\n",
    ")\n"
   ]
  },
  {
   "cell_type": "markdown",
   "metadata": {},
   "source": [
    "## step 6 anaylze novel videos\n",
    "\n",
    "### path of all novel videos\n"
   ]
  },
  {
   "cell_type": "code",
   "execution_count": null,
   "metadata": {},
   "outputs": [],
   "source": [
    "# novel_video1 = r'C:\\Users\\SchwartzLab\\PycharmProjects\\bahavior_rig\\multimedia\\videos\\2020-12-04_1yF2M_Male1\\camera_17391304.MOV'\n",
    "# novel_video2 = r'C:\\Users\\SchwartzLab\\PycharmProjects\\bahavior_rig\\multimedia\\videos\\2020-12-04_1yF2M_Male2\\camera_17391304.MOV'\n",
    "# novel_video3 = r'C:\\Users\\SchwartzLab\\PycharmProjects\\bahavior_rig\\multimedia\\videos\\2020-12-04_Female1TestExtendedExplorationTime\\camera_17391304.MOV'\n",
    "# novel_video4 = r'C:\\Users\\SchwartzLab\\PycharmProjects\\bahavior_rig\\multimedia\\videos\\2020-12-04_TestFemale_Male2\\camera_17391304.MOV'\n",
    "# novel_video5 = r'C:\\Users\\SchwartzLab\\PycharmProjects\\bahavior_rig\\multimedia\\videos\\2020-12-04_TestFemale_Male3\\camera_17391304.MOV'\n",
    "# novel_video6 = r'C:\\Users\\SchwartzLab\\PycharmProjects\\bahavior_rig\\multimedia\\videos\\2020-12-04_TestFemale_Male4\\camera_17391304.MOV'\n",
    "# novel_video7 = r'C:\\Users\\SchwartzLab\\PycharmProjects\\bahavior_rig\\multimedia\\videos\\2020-12-04_MaleExploringExtendedTime\\camera_17391304.MOV'\n",
    "# novel_video8 = r'C:\\Users\\SchwartzLab\\PycharmProjects\\bahavior_rig\\multimedia\\videos\\2020-11-19_MomReunite\\camera_17391304.MOV'\n",
    "# novel_video9 = r'C:\\Users\\SchwartzLab\\PycharmProjects\\bahavior_rig\\multimedia\\videos\\2020-12-04_Male2TestExtendedExplorationTime(1)\\camera_17391304.MOV'\n",
    "# novel_videos=[novel_video1,novel_video2,novel_video3,novel_video4,novel_video5,novel_video6,novel_video7,novel_video8,novel_video9]\n",
    "#novel_videos = [novel_video8, novel_video9]\n",
    "\n",
    "import os\n",
    "novel_video_path = r'C:\\Users\\SchwartzLab\\PycharmProjects\\bahavior_rig\\multimedia\\videos'\n",
    "video_list = os.listdir(novel_video_path)\n",
    "novel_videos=[novel_video_path+ '\\\\'+video+'\\\\camera_17391304.MOV' for video in video_list]\n",
    "print(novel_videos)"
   ]
  },
  {
   "cell_type": "code",
   "execution_count": null,
   "metadata": {},
   "outputs": [],
   "source": [
    "deeplabcut.analyze_videos(config_path,\n",
    "                          novel_videos,\n",
    "                          save_as_csv=True,\n",
    "                          videotype='mov',\n",
    "                         shuffle=1)"
   ]
  },
  {
   "cell_type": "code",
   "execution_count": null,
   "metadata": {},
   "outputs": [],
   "source": [
    "deeplabcut.create_video_with_all_detections(config_path, [novel_videos[0]])"
   ]
  },
  {
   "cell_type": "code",
   "execution_count": null,
   "metadata": {},
   "outputs": [],
   "source": [
    "novel_videos[0]"
   ]
  },
  {
   "cell_type": "markdown",
   "metadata": {},
   "source": [
    "### maDLC: detect tracklets"
   ]
  },
  {
   "cell_type": "code",
   "execution_count": null,
   "metadata": {},
   "outputs": [],
   "source": [
    "for video in novel_videos:\n",
    "    deeplabcut.convert_detections2tracklets(config_path, \n",
    "                                            video, \n",
    "                                            videotype='mov', \n",
    "                                            shuffle=1, \n",
    "                                            #trainingsetindex=0, \n",
    "                                            track_method='box')"
   ]
  },
  {
   "cell_type": "code",
   "execution_count": null,
   "metadata": {},
   "outputs": [],
   "source": [
    "import pprint\n",
    "# novel_video1 = r'C:\\Users\\SchwartzLab\\PycharmProjects\\bahavior_rig\\multimedia\\videos\\2020-12-04_1yF2M_Male1\\camera_17391304DLC_resnet50_Alec_third_try_maDec7shuffle1_60000_bx.pickle'\n",
    "# novel_video2 = r'C:\\Users\\SchwartzLab\\PycharmProjects\\bahavior_rig\\multimedia\\videos\\2020-12-04_1yF2M_Male2\\camera_17391304DLC_resnet50_Alec_third_try_maDec7shuffle1_60000_bx.pickle'\n",
    "# novel_video3 = r'C:\\Users\\SchwartzLab\\PycharmProjects\\bahavior_rig\\multimedia\\videos\\2020-12-04_Female1TestExtendedExplorationTime\\camera_17391304DLC_resnet50_Alec_third_try_maDec7shuffle1_60000_bx.pickle'\n",
    "# novel_video4 = r'C:\\Users\\SchwartzLab\\PycharmProjects\\bahavior_rig\\multimedia\\videos\\2020-12-04_TestFemale_Male2\\camera_17391304DLC_resnet50_Alec_third_try_maDec7shuffle1_60000_bx.pickle'\n",
    "# novel_video5 = r'C:\\Users\\SchwartzLab\\PycharmProjects\\bahavior_rig\\multimedia\\videos\\2020-12-04_TestFemale_Male3\\camera_17391304DLC_resnet50_Alec_third_try_maDec7shuffle1_60000_bx.pickle'\n",
    "# novel_video6 = r'C:\\Users\\SchwartzLab\\PycharmProjects\\bahavior_rig\\multimedia\\videos\\2020-12-04_TestFemale_Male4\\camera_17391304DLC_resnet50_Alec_third_try_maDec7shuffle1_60000_bx.pickle'\n",
    "# novel_video7 = r'C:\\Users\\SchwartzLab\\PycharmProjects\\bahavior_rig\\multimedia\\videos\\2020-12-04_MaleExploringExtendedTime\\camera_17391304DLC_resnet50_Alec_third_try_maDec7shuffle1_60000_bx.pickle'\n",
    "# novel_video8 = r'C:\\Users\\SchwartzLab\\PycharmProjects\\bahavior_rig\\multimedia\\videos\\2020-11-09_MomReunite\\camera_17391304DLC_resnet50_Alec_third_try_maDec7shuffle1_60000_bx.pickle'\n",
    "# pickle_files=[novel_video1,novel_video2,novel_video3,novel_video4,novel_video5,novel_video6,novel_video7,novel_video8]\n",
    "\n",
    "# The tracklets were created. Now you can 'refine_tracklets'.\n",
    "# Using snapshot-200000 for model C:\\Users\\SchwartzLab\\PycharmProjects\\bahavior_rig\\DLC\\HipsOrNeckBackDontLie-Devon-2021-10-12\\dlc-models\\iteration-0\\HipsOrNeckBackDontLieOct12-trainset95shuffle1\n",
    "# Processing...  C:\\Users\\SchwartzLab\\PycharmProjects\\bahavior_rig\\multimedia\\videos\\2020-12-04_MaleExploringExtendedTime\\camera_17391304.MOV\n",
    "# C:\\Users\\SchwartzLab\\PycharmProjects\\bahavior_rig\\multimedia\\videos\\2020-12-04_MaleExploringExtendedTime  already exists!\n",
    "# Analyzing C:\\Users\\SchwartzLab\\PycharmProjects\\bahavior_rig\\multimedia\\videos\\2020-12-04_MaleExploringExtendedTime\\camera_17391304DLC_dlcrnetms5_HipsOrNeckBackDontLieOct12shuffle1_200000.h5\n",
    "pickle_files = []\n",
    "for vid in novel_videos:\n",
    "    pickle_files.append(f'{vid[:-4]}DLC_dlcrnetms5_HipsOrNeckBackDontLieOct12shuffle1_200000_bx.pickle')\n",
    "\n",
    "\n",
    "pprint.pprint({k:v for k,v in zip(novel_videos,pickle_files)})"
   ]
  },
  {
   "cell_type": "code",
   "execution_count": null,
   "metadata": {},
   "outputs": [],
   "source": [
    "# deeplabcut.refine_tracklets(config_path, pickle_files[0], novel_videos[0], min_swap_len=2, min_tracklet_len=2, trail_len=50)\n",
    "deeplabcut.stitch_tracklets(config_path, novel_videos, track_method='box', n_tracks=1)\n"
   ]
  },
  {
   "cell_type": "code",
   "execution_count": null,
   "metadata": {},
   "outputs": [],
   "source": [
    "deeplabcut.filterpredictions(config_path, novel_videos, videotype='MOV',track_method='box')"
   ]
  },
  {
   "cell_type": "code",
   "execution_count": null,
   "metadata": {},
   "outputs": [],
   "source": [
    "# for item in pickle_files:\n",
    "#     deeplabcut.convert_raw_tracks_to_h5(config_path, pickle_files[0])"
   ]
  },
  {
   "cell_type": "code",
   "execution_count": null,
   "metadata": {},
   "outputs": [],
   "source": []
  },
  {
   "cell_type": "code",
   "execution_count": null,
   "metadata": {},
   "outputs": [],
   "source": [
    "deeplabcut.plot_trajectories(config_path, novel_videos, videotype='MOV', track_method='box')"
   ]
  },
  {
   "cell_type": "code",
   "execution_count": null,
   "metadata": {},
   "outputs": [],
   "source": [
    "deeplabcut.create_labeled_video(config_path,novel_videos,save_frames=False,trailpoints=5,videotype='mov',draw_skeleton='True')"
   ]
  },
  {
   "cell_type": "markdown",
   "metadata": {},
   "source": [
    "# The only step for exporting model for dlc-live"
   ]
  },
  {
   "cell_type": "code",
   "execution_count": null,
   "metadata": {},
   "outputs": [],
   "source": [
    "deeplabcut.export_model(config_path,shuffle=1,\n",
    "                        TFGPUinference=False,\n",
    "                        make_tar=False)\n",
    "                        "
   ]
  },
  {
   "cell_type": "code",
   "execution_count": null,
   "metadata": {},
   "outputs": [],
   "source": []
  }
 ],
 "metadata": {
  "kernelspec": {
   "display_name": "Python 3 (ipykernel)",
   "language": "python",
   "name": "python3"
  },
  "language_info": {
   "codemirror_mode": {
    "name": "ipython",
    "version": 3
   },
   "file_extension": ".py",
   "mimetype": "text/x-python",
   "name": "python",
   "nbconvert_exporter": "python",
   "pygments_lexer": "ipython3",
   "version": "3.8.12"
  }
 },
 "nbformat": 4,
 "nbformat_minor": 4
}
